{
 "cells": [
  {
   "cell_type": "code",
   "execution_count": 140,
   "metadata": {},
   "outputs": [],
   "source": [
    "import pandas as pd\n",
    "import csv"
   ]
  },
  {
   "cell_type": "code",
   "execution_count": 141,
   "metadata": {},
   "outputs": [],
   "source": [
    "datafile=pd.read_csv('data.csv')"
   ]
  },
  {
   "cell_type": "code",
   "execution_count": 142,
   "metadata": {},
   "outputs": [
    {
     "data": {
      "text/plain": [
       "(47, 4)"
      ]
     },
     "execution_count": 142,
     "metadata": {},
     "output_type": "execute_result"
    }
   ],
   "source": [
    "datafile.shape"
   ]
  },
  {
   "cell_type": "code",
   "execution_count": 143,
   "metadata": {},
   "outputs": [
    {
     "data": {
      "text/html": [
       "<div>\n",
       "<style scoped>\n",
       "    .dataframe tbody tr th:only-of-type {\n",
       "        vertical-align: middle;\n",
       "    }\n",
       "\n",
       "    .dataframe tbody tr th {\n",
       "        vertical-align: top;\n",
       "    }\n",
       "\n",
       "    .dataframe thead th {\n",
       "        text-align: right;\n",
       "    }\n",
       "</style>\n",
       "<table border=\"1\" class=\"dataframe\">\n",
       "  <thead>\n",
       "    <tr style=\"text-align: right;\">\n",
       "      <th></th>\n",
       "      <th>_type</th>\n",
       "      <th>_id</th>\n",
       "      <th>_score</th>\n",
       "      <th>_source</th>\n",
       "    </tr>\n",
       "  </thead>\n",
       "  <tbody>\n",
       "    <tr>\n",
       "      <th>0</th>\n",
       "      <td>movies</td>\n",
       "      <td>97</td>\n",
       "      <td>20.848059</td>\n",
       "      <td>{'cast': ['Jeff Bridges', 'Bruce Boxleitner', ...</td>\n",
       "    </tr>\n",
       "    <tr>\n",
       "      <th>1</th>\n",
       "      <td>movies</td>\n",
       "      <td>507</td>\n",
       "      <td>10.478757</td>\n",
       "      <td>{'cast': ['Eric Stoltz', 'Julie Delpy', 'Jean-...</td>\n",
       "    </tr>\n",
       "    <tr>\n",
       "      <th>2</th>\n",
       "      <td>movies</td>\n",
       "      <td>811</td>\n",
       "      <td>9.831051</td>\n",
       "      <td>{'cast': ['Bruce Dern', 'Cliff Potts', 'Ron Ri...</td>\n",
       "    </tr>\n",
       "  </tbody>\n",
       "</table>\n",
       "</div>"
      ],
      "text/plain": [
       "    _type  _id     _score                                            _source\n",
       "0  movies   97  20.848059  {'cast': ['Jeff Bridges', 'Bruce Boxleitner', ...\n",
       "1  movies  507  10.478757  {'cast': ['Eric Stoltz', 'Julie Delpy', 'Jean-...\n",
       "2  movies  811   9.831051  {'cast': ['Bruce Dern', 'Cliff Potts', 'Ron Ri..."
      ]
     },
     "execution_count": 143,
     "metadata": {},
     "output_type": "execute_result"
    }
   ],
   "source": [
    "datafile.head(3)"
   ]
  },
  {
   "cell_type": "code",
   "execution_count": 144,
   "metadata": {},
   "outputs": [
    {
     "name": "stdout",
     "output_type": "stream",
     "text": [
      "<class 'pandas.core.frame.DataFrame'>\n",
      "RangeIndex: 47 entries, 0 to 46\n",
      "Data columns (total 4 columns):\n",
      "_type      47 non-null object\n",
      "_id        47 non-null int64\n",
      "_score     47 non-null float64\n",
      "_source    47 non-null object\n",
      "dtypes: float64(1), int64(1), object(2)\n",
      "memory usage: 1.5+ KB\n"
     ]
    }
   ],
   "source": [
    "datafile.info()"
   ]
  },
  {
   "cell_type": "code",
   "execution_count": 145,
   "metadata": {},
   "outputs": [
    {
     "data": {
      "text/plain": [
       "Index(['_type', '_id', '_score', '_source'], dtype='object')"
      ]
     },
     "execution_count": 145,
     "metadata": {},
     "output_type": "execute_result"
    }
   ],
   "source": [
    "datafile.columns"
   ]
  },
  {
   "cell_type": "code",
   "execution_count": 146,
   "metadata": {},
   "outputs": [],
   "source": [
    "activity_datafile=pd.read_csv('activity_data.csv')"
   ]
  },
  {
   "cell_type": "code",
   "execution_count": 147,
   "metadata": {},
   "outputs": [
    {
     "data": {
      "text/plain": [
       "(5, 7)"
      ]
     },
     "execution_count": 147,
     "metadata": {},
     "output_type": "execute_result"
    }
   ],
   "source": [
    "activity_datafile.shape"
   ]
  },
  {
   "cell_type": "code",
   "execution_count": 148,
   "metadata": {},
   "outputs": [
    {
     "data": {
      "text/html": [
       "<div>\n",
       "<style scoped>\n",
       "    .dataframe tbody tr th:only-of-type {\n",
       "        vertical-align: middle;\n",
       "    }\n",
       "\n",
       "    .dataframe tbody tr th {\n",
       "        vertical-align: top;\n",
       "    }\n",
       "\n",
       "    .dataframe thead th {\n",
       "        text-align: right;\n",
       "    }\n",
       "</style>\n",
       "<table border=\"1\" class=\"dataframe\">\n",
       "  <thead>\n",
       "    <tr style=\"text-align: right;\">\n",
       "      <th></th>\n",
       "      <th>media_type</th>\n",
       "      <th>watched</th>\n",
       "      <th>rating</th>\n",
       "      <th>watchlist</th>\n",
       "      <th>profile_id</th>\n",
       "      <th>id</th>\n",
       "      <th>hide</th>\n",
       "    </tr>\n",
       "  </thead>\n",
       "  <tbody>\n",
       "    <tr>\n",
       "      <th>0</th>\n",
       "      <td>{'S': 'movies'}</td>\n",
       "      <td>{'M': {'value': {'NULL': True}, 'timestamp': {...</td>\n",
       "      <td>{'M': {'value': {'NULL': True}, 'timestamp': {...</td>\n",
       "      <td>{'M': {'value': {'S': '0'}, 'timestamp': {'S':...</td>\n",
       "      <td>{'S': 'b1d89c45-ed9b-4a0e-8d78-28e628c2fb8c'}</td>\n",
       "      <td>{'S': '744_movies'}</td>\n",
       "      <td>{'M': {'value': {'NULL': True}, 'timestamp': {...</td>\n",
       "    </tr>\n",
       "    <tr>\n",
       "      <th>1</th>\n",
       "      <td>{'S': 'movies'}</td>\n",
       "      <td>{'M': {'value': {'NULL': True}, 'timestamp': {...</td>\n",
       "      <td>{'M': {'value': {'S': '3'}, 'timestamp': {'S':...</td>\n",
       "      <td>{'M': {'value': {'NULL': True}, 'timestamp': {...</td>\n",
       "      <td>{'S': 'b1d89c45-ed9b-4a0e-8d78-28e628c2fb8c'}</td>\n",
       "      <td>{'S': '820_movies'}</td>\n",
       "      <td>{'M': {'value': {'NULL': True}, 'timestamp': {...</td>\n",
       "    </tr>\n",
       "    <tr>\n",
       "      <th>2</th>\n",
       "      <td>{'S': 'movies'}</td>\n",
       "      <td>{'M': {'value': {'NULL': True}, 'timestamp': {...</td>\n",
       "      <td>{'M': {'value': {'NULL': True}, 'timestamp': {...</td>\n",
       "      <td>{'M': {'value': {'S': '0'}, 'timestamp': {'S':...</td>\n",
       "      <td>{'S': 'b1d89c45-ed9b-4a0e-8d78-28e628c2fb8c'}</td>\n",
       "      <td>{'S': '402_movies'}</td>\n",
       "      <td>{'M': {'value': {'NULL': True}, 'timestamp': {...</td>\n",
       "    </tr>\n",
       "    <tr>\n",
       "      <th>3</th>\n",
       "      <td>{'S': 'movies'}</td>\n",
       "      <td>{'M': {'value': {'NULL': True}, 'timestamp': {...</td>\n",
       "      <td>{'M': {'value': {'S': '3'}, 'timestamp': {'S':...</td>\n",
       "      <td>{'M': {'value': {'S': '0'}, 'timestamp': {'S':...</td>\n",
       "      <td>{'S': 'b1d89c45-ed9b-4a0e-8d78-28e628c2fb8c'}</td>\n",
       "      <td>{'S': '87_movies'}</td>\n",
       "      <td>{'M': {'value': {'NULL': True}, 'timestamp': {...</td>\n",
       "    </tr>\n",
       "    <tr>\n",
       "      <th>4</th>\n",
       "      <td>{'S': 'movies'}</td>\n",
       "      <td>{'M': {'value': {'NULL': True}, 'timestamp': {...</td>\n",
       "      <td>{'M': {'value': {'NULL': True}, 'timestamp': {...</td>\n",
       "      <td>{'M': {'value': {'S': '0'}, 'timestamp': {'S':...</td>\n",
       "      <td>{'S': 'b1d89c45-ed9b-4a0e-8d78-28e628c2fb8c'}</td>\n",
       "      <td>{'S': '810_movies'}</td>\n",
       "      <td>{'M': {'value': {'NULL': True}, 'timestamp': {...</td>\n",
       "    </tr>\n",
       "  </tbody>\n",
       "</table>\n",
       "</div>"
      ],
      "text/plain": [
       "        media_type                                            watched  \\\n",
       "0  {'S': 'movies'}  {'M': {'value': {'NULL': True}, 'timestamp': {...   \n",
       "1  {'S': 'movies'}  {'M': {'value': {'NULL': True}, 'timestamp': {...   \n",
       "2  {'S': 'movies'}  {'M': {'value': {'NULL': True}, 'timestamp': {...   \n",
       "3  {'S': 'movies'}  {'M': {'value': {'NULL': True}, 'timestamp': {...   \n",
       "4  {'S': 'movies'}  {'M': {'value': {'NULL': True}, 'timestamp': {...   \n",
       "\n",
       "                                              rating  \\\n",
       "0  {'M': {'value': {'NULL': True}, 'timestamp': {...   \n",
       "1  {'M': {'value': {'S': '3'}, 'timestamp': {'S':...   \n",
       "2  {'M': {'value': {'NULL': True}, 'timestamp': {...   \n",
       "3  {'M': {'value': {'S': '3'}, 'timestamp': {'S':...   \n",
       "4  {'M': {'value': {'NULL': True}, 'timestamp': {...   \n",
       "\n",
       "                                           watchlist  \\\n",
       "0  {'M': {'value': {'S': '0'}, 'timestamp': {'S':...   \n",
       "1  {'M': {'value': {'NULL': True}, 'timestamp': {...   \n",
       "2  {'M': {'value': {'S': '0'}, 'timestamp': {'S':...   \n",
       "3  {'M': {'value': {'S': '0'}, 'timestamp': {'S':...   \n",
       "4  {'M': {'value': {'S': '0'}, 'timestamp': {'S':...   \n",
       "\n",
       "                                      profile_id                   id  \\\n",
       "0  {'S': 'b1d89c45-ed9b-4a0e-8d78-28e628c2fb8c'}  {'S': '744_movies'}   \n",
       "1  {'S': 'b1d89c45-ed9b-4a0e-8d78-28e628c2fb8c'}  {'S': '820_movies'}   \n",
       "2  {'S': 'b1d89c45-ed9b-4a0e-8d78-28e628c2fb8c'}  {'S': '402_movies'}   \n",
       "3  {'S': 'b1d89c45-ed9b-4a0e-8d78-28e628c2fb8c'}   {'S': '87_movies'}   \n",
       "4  {'S': 'b1d89c45-ed9b-4a0e-8d78-28e628c2fb8c'}  {'S': '810_movies'}   \n",
       "\n",
       "                                                hide  \n",
       "0  {'M': {'value': {'NULL': True}, 'timestamp': {...  \n",
       "1  {'M': {'value': {'NULL': True}, 'timestamp': {...  \n",
       "2  {'M': {'value': {'NULL': True}, 'timestamp': {...  \n",
       "3  {'M': {'value': {'NULL': True}, 'timestamp': {...  \n",
       "4  {'M': {'value': {'NULL': True}, 'timestamp': {...  "
      ]
     },
     "execution_count": 148,
     "metadata": {},
     "output_type": "execute_result"
    }
   ],
   "source": [
    "activity_datafile.head()"
   ]
  },
  {
   "cell_type": "code",
   "execution_count": 149,
   "metadata": {},
   "outputs": [
    {
     "name": "stdout",
     "output_type": "stream",
     "text": [
      "<class 'pandas.core.frame.DataFrame'>\n",
      "RangeIndex: 5 entries, 0 to 4\n",
      "Data columns (total 7 columns):\n",
      "media_type    5 non-null object\n",
      "watched       5 non-null object\n",
      "rating        5 non-null object\n",
      "watchlist     5 non-null object\n",
      "profile_id    5 non-null object\n",
      "id            5 non-null object\n",
      "hide          5 non-null object\n",
      "dtypes: object(7)\n",
      "memory usage: 360.0+ bytes\n"
     ]
    }
   ],
   "source": [
    "activity_datafile.info()"
   ]
  },
  {
   "cell_type": "code",
   "execution_count": 150,
   "metadata": {},
   "outputs": [
    {
     "data": {
      "text/plain": [
       "Index(['media_type', 'watched', 'rating', 'watchlist', 'profile_id', 'id',\n",
       "       'hide'],\n",
       "      dtype='object')"
      ]
     },
     "execution_count": 150,
     "metadata": {},
     "output_type": "execute_result"
    }
   ],
   "source": [
    "activity_datafile.columns"
   ]
  },
  {
   "cell_type": "code",
   "execution_count": 151,
   "metadata": {},
   "outputs": [],
   "source": [
    "outputfile=pd.read_csv('output (1).csv')"
   ]
  },
  {
   "cell_type": "code",
   "execution_count": 152,
   "metadata": {},
   "outputs": [
    {
     "data": {
      "text/plain": [
       "(47, 1)"
      ]
     },
     "execution_count": 152,
     "metadata": {},
     "output_type": "execute_result"
    }
   ],
   "source": [
    "outputfile.shape"
   ]
  },
  {
   "cell_type": "code",
   "execution_count": 153,
   "metadata": {},
   "outputs": [
    {
     "name": "stdout",
     "output_type": "stream",
     "text": [
      "<class 'pandas.core.frame.DataFrame'>\n",
      "RangeIndex: 47 entries, 0 to 46\n",
      "Data columns (total 1 columns):\n",
      "_source    47 non-null object\n",
      "dtypes: object(1)\n",
      "memory usage: 456.0+ bytes\n"
     ]
    }
   ],
   "source": [
    "outputfile.info()"
   ]
  },
  {
   "cell_type": "code",
   "execution_count": 154,
   "metadata": {},
   "outputs": [
    {
     "data": {
      "text/plain": [
       "Index(['_source'], dtype='object')"
      ]
     },
     "execution_count": 154,
     "metadata": {},
     "output_type": "execute_result"
    }
   ],
   "source": [
    "outputfile.columns"
   ]
  },
  {
   "cell_type": "code",
   "execution_count": 155,
   "metadata": {},
   "outputs": [],
   "source": [
    "series_of_ids=datafile['_id']"
   ]
  },
  {
   "cell_type": "code",
   "execution_count": 156,
   "metadata": {},
   "outputs": [],
   "source": [
    "outputfile['id']=series_of_ids"
   ]
  },
  {
   "cell_type": "code",
   "execution_count": 157,
   "metadata": {},
   "outputs": [
    {
     "data": {
      "text/plain": [
       "Index(['_source', 'id'], dtype='object')"
      ]
     },
     "execution_count": 157,
     "metadata": {},
     "output_type": "execute_result"
    }
   ],
   "source": [
    "outputfile.columns"
   ]
  },
  {
   "cell_type": "code",
   "execution_count": 158,
   "metadata": {},
   "outputs": [
    {
     "data": {
      "text/html": [
       "<div>\n",
       "<style scoped>\n",
       "    .dataframe tbody tr th:only-of-type {\n",
       "        vertical-align: middle;\n",
       "    }\n",
       "\n",
       "    .dataframe tbody tr th {\n",
       "        vertical-align: top;\n",
       "    }\n",
       "\n",
       "    .dataframe thead th {\n",
       "        text-align: right;\n",
       "    }\n",
       "</style>\n",
       "<table border=\"1\" class=\"dataframe\">\n",
       "  <thead>\n",
       "    <tr style=\"text-align: right;\">\n",
       "      <th></th>\n",
       "      <th>_source</th>\n",
       "      <th>id</th>\n",
       "    </tr>\n",
       "  </thead>\n",
       "  <tbody>\n",
       "    <tr>\n",
       "      <th>0</th>\n",
       "      <td>{'cast': ['Jeff Bridges', 'Bruce Boxleitner', ...</td>\n",
       "      <td>97</td>\n",
       "    </tr>\n",
       "    <tr>\n",
       "      <th>1</th>\n",
       "      <td>{'cast': ['Eric Stoltz', 'Julie Delpy', 'Jean-...</td>\n",
       "      <td>507</td>\n",
       "    </tr>\n",
       "    <tr>\n",
       "      <th>2</th>\n",
       "      <td>{'cast': ['Bruce Dern', 'Cliff Potts', 'Ron Ri...</td>\n",
       "      <td>811</td>\n",
       "    </tr>\n",
       "    <tr>\n",
       "      <th>3</th>\n",
       "      <td>{'cast': ['Ron Rifkin', 'Eddie Barth', 'Charle...</td>\n",
       "      <td>25222</td>\n",
       "    </tr>\n",
       "    <tr>\n",
       "      <th>4</th>\n",
       "      <td>{'cast': ['Margaret Rutherford', 'Ron Moody', ...</td>\n",
       "      <td>757</td>\n",
       "    </tr>\n",
       "  </tbody>\n",
       "</table>\n",
       "</div>"
      ],
      "text/plain": [
       "                                             _source     id\n",
       "0  {'cast': ['Jeff Bridges', 'Bruce Boxleitner', ...     97\n",
       "1  {'cast': ['Eric Stoltz', 'Julie Delpy', 'Jean-...    507\n",
       "2  {'cast': ['Bruce Dern', 'Cliff Potts', 'Ron Ri...    811\n",
       "3  {'cast': ['Ron Rifkin', 'Eddie Barth', 'Charle...  25222\n",
       "4  {'cast': ['Margaret Rutherford', 'Ron Moody', ...    757"
      ]
     },
     "execution_count": 158,
     "metadata": {},
     "output_type": "execute_result"
    }
   ],
   "source": [
    "outputfile.head()"
   ]
  },
  {
   "cell_type": "code",
   "execution_count": 159,
   "metadata": {},
   "outputs": [],
   "source": [
    "output_final=pd.merge(outputfile,activity_datafile,on='id')"
   ]
  },
  {
   "cell_type": "code",
   "execution_count": 160,
   "metadata": {},
   "outputs": [],
   "source": [
    "final_output_csv_file=output_final.to_csv()"
   ]
  },
  {
   "cell_type": "code",
   "execution_count": null,
   "metadata": {},
   "outputs": [],
   "source": []
  },
  {
   "cell_type": "code",
   "execution_count": null,
   "metadata": {},
   "outputs": [],
   "source": []
  },
  {
   "cell_type": "code",
   "execution_count": null,
   "metadata": {},
   "outputs": [],
   "source": []
  },
  {
   "cell_type": "code",
   "execution_count": null,
   "metadata": {},
   "outputs": [],
   "source": []
  },
  {
   "cell_type": "code",
   "execution_count": null,
   "metadata": {},
   "outputs": [],
   "source": []
  }
 ],
 "metadata": {
  "kernelspec": {
   "display_name": "Python 3",
   "language": "python",
   "name": "python3"
  },
  "language_info": {
   "codemirror_mode": {
    "name": "ipython",
    "version": 3
   },
   "file_extension": ".py",
   "mimetype": "text/x-python",
   "name": "python",
   "nbconvert_exporter": "python",
   "pygments_lexer": "ipython3",
   "version": "3.6.4"
  }
 },
 "nbformat": 4,
 "nbformat_minor": 2
}
